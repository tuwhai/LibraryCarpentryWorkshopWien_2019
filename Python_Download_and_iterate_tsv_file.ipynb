{
 "cells": [
  {
   "cell_type": "code",
   "execution_count": 3,
   "metadata": {},
   "outputs": [],
   "source": [
    "#Library importieren , ein paar werkzeuge daraus \n",
    "import urllib.request\n"
   ]
  },
  {
   "cell_type": "code",
   "execution_count": 4,
   "metadata": {},
   "outputs": [],
   "source": [
    "# Quelle definiert\n",
    "tsv_file = \"DOIs_PIMDs_PUBYears.tsv\""
   ]
  },
  {
   "cell_type": "code",
   "execution_count": 5,
   "metadata": {},
   "outputs": [],
   "source": [
    "#Variable definieren \"tsv_url\"\n",
    "tsv_url = \"https://raw.githubusercontent.com/foerstner-lab/Bits_and_pieces_for_the_carpentries_workshops/master/text_file_examples/DOIs_PMIDs_PubYears.tsv\""
   ]
  },
  {
   "cell_type": "code",
   "execution_count": 6,
   "metadata": {},
   "outputs": [
    {
     "data": {
      "text/plain": [
       "('DOIs_PIMDs_PUBYears.tsv', <http.client.HTTPMessage at 0x17646b7cb38>)"
      ]
     },
     "execution_count": 6,
     "metadata": {},
     "output_type": "execute_result"
    }
   ],
   "source": [
    "# ich gebe Library mit funktion and und habe als attribut (Quelle und Ziel)\n",
    "urllib.request.urlretrieve(tsv_url, tsv_file)"
   ]
  },
  {
   "cell_type": "code",
   "execution_count": 10,
   "metadata": {},
   "outputs": [
    {
     "name": "stdout",
     "output_type": "stream",
     "text": [
      "DOI\tPMID\tYear\n",
      "\n",
      "10.1186/s13326-017-0123-3\t28412964\t2017\n",
      "\n",
      "10.1093/bioinformatics/btw331\t27288493\t2016\n",
      "\n",
      "10.1007/s11306-018-1356-6\t29706851\t2018\n",
      "\n",
      "10.1371/journal.pcbi.1004447\t26335558\t2015\n",
      "\n",
      "10.1093/bioinformatics/btv363.\t26085503\t2015\n",
      "\n",
      "10.1371/journal.pbio.3000246\t31042704\t2019\n",
      "\n",
      "10.7717/peerj.6762\t30997295\t2019\n",
      "\n",
      "10.3389/fpsyg.2019.00564\t30949097\t2019\n",
      "\n"
     ]
    }
   ],
   "source": [
    "# open ist nötig um die datei zu laden\n",
    "for line in open(tsv_file):\n",
    "    print(line)"
   ]
  },
  {
   "cell_type": "code",
   "execution_count": 9,
   "metadata": {},
   "outputs": [
    {
     "name": "stdout",
     "output_type": "stream",
     "text": [
      "DOI\tPMID\tYear\n",
      "\n",
      "--------------\n",
      "10.1186/s13326-017-0123-3\t28412964\t2017\n",
      "\n",
      "--------------\n",
      "10.1093/bioinformatics/btw331\t27288493\t2016\n",
      "\n",
      "--------------\n",
      "10.1007/s11306-018-1356-6\t29706851\t2018\n",
      "\n",
      "--------------\n",
      "10.1371/journal.pcbi.1004447\t26335558\t2015\n",
      "\n",
      "--------------\n",
      "10.1093/bioinformatics/btv363.\t26085503\t2015\n",
      "\n",
      "--------------\n",
      "10.1371/journal.pbio.3000246\t31042704\t2019\n",
      "\n",
      "--------------\n",
      "10.7717/peerj.6762\t30997295\t2019\n",
      "\n",
      "--------------\n",
      "10.3389/fpsyg.2019.00564\t30949097\t2019\n",
      "\n",
      "--------------\n"
     ]
    }
   ],
   "source": [
    "# open ist nötig um die datei zu laden\n",
    "for line in open(tsv_file):\n",
    "    print(line)\n",
    "    print(\"--------------\")"
   ]
  },
  {
   "cell_type": "code",
   "execution_count": 12,
   "metadata": {},
   "outputs": [
    {
     "name": "stdout",
     "output_type": "stream",
     "text": [
      "['DOI', 'PMID', 'Year\\n']\n",
      "['10.1186/s13326-017-0123-3', '28412964', '2017\\n']\n",
      "['10.1093/bioinformatics/btw331', '27288493', '2016\\n']\n",
      "['10.1007/s11306-018-1356-6', '29706851', '2018\\n']\n",
      "['10.1371/journal.pcbi.1004447', '26335558', '2015\\n']\n",
      "['10.1093/bioinformatics/btv363.', '26085503', '2015\\n']\n",
      "['10.1371/journal.pbio.3000246', '31042704', '2019\\n']\n",
      "['10.7717/peerj.6762', '30997295', '2019\\n']\n",
      "['10.3389/fpsyg.2019.00564', '30949097', '2019\\n']\n"
     ]
    }
   ],
   "source": [
    "# nur bestimmte werte aus tabelle ausgeben (Zeile splitten) -  Liste wird ausgeben (Eckige Klammer)\n",
    "# \\t = abkürzung für Tabulator\n",
    "\n",
    "for line in open(tsv_file):\n",
    "    print(line.split(\"\\t\"))"
   ]
  },
  {
   "cell_type": "code",
   "execution_count": 14,
   "metadata": {},
   "outputs": [
    {
     "name": "stdout",
     "output_type": "stream",
     "text": [
      "DOI\n",
      "10.1186/s13326-017-0123-3\n",
      "10.1093/bioinformatics/btw331\n",
      "10.1007/s11306-018-1356-6\n",
      "10.1371/journal.pcbi.1004447\n",
      "10.1093/bioinformatics/btv363.\n",
      "10.1371/journal.pbio.3000246\n",
      "10.7717/peerj.6762\n",
      "10.3389/fpsyg.2019.00564\n"
     ]
    }
   ],
   "source": [
    "# DOI ausgeben\n",
    "for line in open(tsv_file):\n",
    "    split_line = line.split(\"\\t\")\n",
    "    print(split_line[0])"
   ]
  },
  {
   "cell_type": "markdown",
   "metadata": {},
   "source": [
    "Pandas bringt dataframes in python (Kennt man sonst aus R)\n",
    "data frame = sowas wie eine Tabelle\n",
    "ermöglicht den import von vielen unterschiedlichen Dateiformaten\n",
    "Für Test wird OpenAPC verwendet\n",
    "\n"
   ]
  },
  {
   "cell_type": "code",
   "execution_count": null,
   "metadata": {},
   "outputs": [],
   "source": []
  }
 ],
 "metadata": {
  "kernelspec": {
   "display_name": "Python 3",
   "language": "python",
   "name": "python3"
  },
  "language_info": {
   "codemirror_mode": {
    "name": "ipython",
    "version": 3
   },
   "file_extension": ".py",
   "mimetype": "text/x-python",
   "name": "python",
   "nbconvert_exporter": "python",
   "pygments_lexer": "ipython3",
   "version": "3.7.0"
  }
 },
 "nbformat": 4,
 "nbformat_minor": 2
}
